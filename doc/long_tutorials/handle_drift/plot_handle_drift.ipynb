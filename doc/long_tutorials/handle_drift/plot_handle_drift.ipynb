{
  "cells": [
    {
      "cell_type": "markdown",
      "metadata": {},
      "source": [
        "\n# Handle motion/drift with spikeinterface NEW\n\nWhen running *in vivo* electrophysiology recordings, movement of the probe is\nan inevitability, especially when the subjects are not head-fixed. SpikeInterface\nincludes a number of popular methods to compensate for probe motion during the\npreprocessing step.\n\n### What is drift and where does it come from?\n\nMovement of the probe means that the spikes recorded on the probe 'drift' along it.\nTypically, this motion is vertical along the probe (along the 'y' axis) which\nmanifests as the units moving long the probe in space.\n\nAll common motion-correction methods address this vertical drift. Horizontal ('x')\nor forward/backwards ('z') motion, that would appear as the amplitude of a unit\nchanging over time, are much harder to model and not handled in available motion-correction algorithms.\nFortunately, vertical drift is the most common form of motion as the probe is\nmore likely to move along the path it was inserted, rather than in other directions\nwhere it is buffeted against the brain.\n\nVertical drift can come in two forms, 'rigid' and 'non-rigid'. Rigid drift\nis drift caused by movement of the entire probe and the motion is the\nsame for all points along the probe. Non-rigid drift is instead caused by\nlocal movement of parts of the brain along the probe, and can affect\nthe recording at only certain points along the probe.\n\n### How SpikeInterface handles drift\n\nSpikeinterface offers a very flexible framework to handle drift as a\npreprocessing step. In this tutorial we will cover the three main\ndrift-correction algorithms implemented in SpikeInterface with\na focus on running the methods and interpreting the output. For\nmore information on the theory and implementation of these methods,\nsee the `motion_correction` section of the documentation.\n\n### The drift correction steps\n\nThe easiest way to run drift correction in SpikeInterface is with the\nhigh-level :py:func:`~spikeinterface.preprocessing.correct_motion()` function.\nThis function takes a preprocessed recording as input and then internally runs\nseveral steps and returns a lazy recording that interpolates the traces on-the-fly\nto compensate for the motion.\n\nThe\n:py:func:`~spikeinterface.preprocessing.correct_motion()`\nfunction provides a convenient wrapper around a number of sub-functions\nthat together implement the full drift correction algorithm.\n\nInternally this function runs the following steps:\n\n| **1.** ``localize_peaks()``\n| **2.** ``select_peaks()`` (optional)\n| **3.** ``estimate_motion()``\n| **4.** ``interpolate_motion()``\n\nAll these sub-steps have many parameters which dictate the\nspeed and effectiveness of motion correction. As such, `correct_motion`\nprovides three setting 'presets' which configure the motion correct\nto proceed either as:\n\n* `rigid_fast` - a fast, not particularly accurate correction assuming ridigt drift.\n* `kilosort-like` - Mimics what is done in Kilosort (REF)\n* `nonrigid_accurate` - A decentralised drift correction, introduced by the Paninski group (REF)\n\n**Now, let's dive into running motion correction with these three\nmethods on a simulated dataset and interpreting the output.\n"
      ]
    },
    {
      "cell_type": "markdown",
      "metadata": {},
      "source": [
        ".. seealso::\n    hello world\n\n"
      ]
    },
    {
      "cell_type": "code",
      "execution_count": null,
      "metadata": {
        "collapsed": false
      },
      "outputs": [],
      "source": [
        "from pathlib import Path\nimport matplotlib.pyplot as plt\nimport numpy as np\nimport shutil\nimport spikeinterface.full as si"
      ]
    },
    {
      "cell_type": "code",
      "execution_count": null,
      "metadata": {
        "collapsed": false
      },
      "outputs": [],
      "source": [
        "from spikeinterface.extractors import toy_example\nfrom spikeinterface.generation.drifting_generator import generate_drifting_recording\n\n# TODO: add a note that it must be run in a if __name__ == \"__main__\" block.\n# TODO: is there currently any way to compute accuracy of method based on\n# drift-corrected vs. original static recording?\n\n_, raw_rec, _ = generate_drifting_recording(\n    num_units=50, # 300,\n    duration=100, # 1000\n    generate_sorting_kwargs=dict(firing_rates=(15, 25), refractory_period_ms=4.0),\n    seed=42,\n)\nprint(raw_rec)"
      ]
    },
    {
      "cell_type": "markdown",
      "metadata": {},
      "source": [
        "We preprocess the recording with bandpass filter and a common median reference.\nNote, that it is better to not whiten the recording before motion estimation\nto get a better estimate of peak locations!\n\n"
      ]
    },
    {
      "cell_type": "code",
      "execution_count": null,
      "metadata": {
        "collapsed": false
      },
      "outputs": [],
      "source": [
        "def preprocess_chain(rec):\n    rec = si.bandpass_filter(rec, freq_min=300.0, freq_max=6000.0)\n    rec = si.common_reference(rec, reference=\"global\", operator=\"median\")\n    return rec\n\n\nrec = preprocess_chain(raw_rec)\n\njob_kwargs = dict(n_jobs=40, chunk_duration=\"1s\", progress_bar=True)"
      ]
    },
    {
      "cell_type": "markdown",
      "metadata": {},
      "source": [
        "## Run motion correction with one function!\n\nCorrecting for drift is easy! You just need to run a single function.\nWe will try this function with 3 presets.\n\nInternally a preset is a dictionary of dictionaries containing all parameters for every steps.\n\nHere we also save the motion correction results into a folder to be able to load them later.\n\n"
      ]
    },
    {
      "cell_type": "code",
      "execution_count": null,
      "metadata": {
        "collapsed": false
      },
      "outputs": [],
      "source": [
        "# internally, we can explore a preset like this\n# every parameter can be overwritten at runtime\nfrom spikeinterface.preprocessing.motion import motion_options_preset\n\nprint(motion_options_preset[\"kilosort_like\"])"
      ]
    },
    {
      "cell_type": "markdown",
      "metadata": {},
      "source": [
        "lets try theses 3 presets\n\n"
      ]
    },
    {
      "cell_type": "code",
      "execution_count": null,
      "metadata": {
        "collapsed": false
      },
      "outputs": [],
      "source": [
        "some_presets = (\"rigid_fast\", \"kilosort_like\", \"nonrigid_accurate\")\nresults = {preset: {} for preset in some_presets}  # TODO: RENAME VAR"
      ]
    },
    {
      "cell_type": "markdown",
      "metadata": {},
      "source": [
        "and compute motion with 3 presets\n\n"
      ]
    },
    {
      "cell_type": "code",
      "execution_count": null,
      "metadata": {
        "collapsed": false
      },
      "outputs": [],
      "source": [
        "for preset in some_presets:\n    print(\"Computing with\", preset)\n\n    recording_corrected, motion_info = si.correct_motion(  # TODO: RECORDING_CORRECTED UNUSED\n        rec, preset=preset,  output_motion_info=True, **job_kwargs\n    )\n    results[preset][\"motion_info\"] = motion_info"
      ]
    },
    {
      "cell_type": "markdown",
      "metadata": {},
      "source": [
        "## Plot the results\n\nWe load back the results and use the widgets module to explore the estimated drift motion.\n\nFor all methods we have 4 plots:\n  * **top left:** time vs estimated peak depth\n  * **top right:** time vs peak depth after motion correction\n  * **bottom left:** the average motion vector across depths and all motion across spatial depths for non-rigid estimation)\n  * **bottom right:** if motion correction is non rigid, the motion vector across depths is plotted as a map, with the color code representing the motion in micrometers.\n\nA few comments on the figures:\n  * The preset **'rigid_fast'** has only one motion vector for the entire probe because it is a \"rigid\" case.\n    The motion amplitude is globally underestimated because it averages across depths.\n    However, the corrected peaks are flatter than the non-corrected ones, so the job is partially done.\n    The big jump at=600s when the probe start moving is recovered quite well.\n  * The preset **kilosort_like** gives better results because it is a non-rigid case.\n    The motion vector is computed for different depths.\n    The corrected peak locations are flatter than the rigid case.\n    The motion vector map is still be a bit noisy at some depths (e.g around 1000um).\n  * The preset **nonrigid_accurate** seems to give the best results on this recording.\n    The motion vector seems less noisy globally, but it is not \"perfect\" (see at the top of the probe 3200um to 3800um).\n    Also note that in the first part of the recording before the imposed motion (0-600s) we clearly have a non-rigid motion:\n    the upper part of the probe (2000-3000um) experience some drifts, but the lower part (0-1000um) is relatively stable.\n    The method defined by this preset is able to capture this.\n\n"
      ]
    },
    {
      "cell_type": "code",
      "execution_count": null,
      "metadata": {
        "collapsed": false
      },
      "outputs": [],
      "source": [
        "for preset in some_presets:\n    fig = plt.figure(figsize=(7, 7))\n    si.plot_motion_info(\n        results[preset][\"motion_info\"],\n        recording=rec,\n        figure=fig,\n        depth_lim=(400, 600),\n        color_amplitude=True,\n        amplitude_cmap=\"inferno\",\n        scatter_decimate=10,\n    )\n    fig.suptitle(f\"{preset=}\")"
      ]
    },
    {
      "cell_type": "markdown",
      "metadata": {},
      "source": [
        "## Plot peak localization\n\nWe can also use the internal extra results (peaks and peaks location) to check if putative\nclusters have a lower spatial spread after the motion correction.\n\nHere we plot the estimated peak locations (left) and the corrected peak locations\n(on right) on top of the probe.\nThe color codes for the peak amplitudes.\n\nWe can see here that some clusters seem to be more compact on the 'y' axis, especially\nfor the preset \"nonrigid_accurate\".\n\nBe aware that there are two ways to correct for the motion:\n  1. Interpolate traces and detect/localize peaks again  (`interpolate_recording()`)\n  2. Compensate for drifts directly on peak locations (`correct_motion_on_peaks()`)\n\nCase 1 is used before running a spike sorter and the case 2 is used here to display the results.\n\n"
      ]
    },
    {
      "cell_type": "code",
      "execution_count": null,
      "metadata": {
        "collapsed": false
      },
      "outputs": [],
      "source": [
        "from spikeinterface.sortingcomponents.motion_interpolation import correct_motion_on_peaks\nfrom spikeinterface.widgets import plot_peaks_on_probe\n\npeaks = []\npeak_locations = []\nfor preset in some_presets:\n\n    motion_info = results[preset][\"motion_info\"]\n\n    peaks.append(motion_info[\"peaks\"])\n    peak_locations.append(motion_info[\"peak_locations\"])\n\nwidget = plot_peaks_on_probe(rec, peaks, peak_locations, ylim=(200,800))\n[widget.axes[idx].set_title(subtitle) for idx, subtitle in enumerate(some_presets)]"
      ]
    },
    {
      "cell_type": "markdown",
      "metadata": {},
      "source": [
        "## Accuracy and Run Times\n\nPresets and related methods have differents accuracies but also computation speeds.\nIt is good to have this in mind!\n\n"
      ]
    },
    {
      "cell_type": "code",
      "execution_count": null,
      "metadata": {
        "collapsed": false
      },
      "outputs": [],
      "source": [
        "# run_times = []\nfor preset in some_presets:\n\n    # run_times.append(results[preset][\"motion_info\"][\"run_times\"])\n    print(preset)\n    print(results[preset][\"motion_info\"][\"run_times\"])\nif False:\n    keys = run_times[0].keys()\n\n    bottom = np.zeros(len(run_times))\n    fig, ax = plt.subplots()\n    for k in keys:\n        rtimes = np.array([rt[k] for rt in run_times])\n        if np.any(rtimes > 0.0):\n            ax.bar(some_presets, rtimes, bottom=bottom, label=k)\n        bottom += rtimes\n    ax.legend()"
      ]
    }
  ],
  "metadata": {
    "kernelspec": {
      "display_name": "Python 3",
      "language": "python",
      "name": "python3"
    },
    "language_info": {
      "codemirror_mode": {
        "name": "ipython",
        "version": 3
      },
      "file_extension": ".py",
      "mimetype": "text/x-python",
      "name": "python",
      "nbconvert_exporter": "python",
      "pygments_lexer": "ipython3",
      "version": "3.10.14"
    }
  },
  "nbformat": 4,
  "nbformat_minor": 0
}
